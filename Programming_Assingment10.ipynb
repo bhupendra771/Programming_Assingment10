{
 "cells": [
  {
   "cell_type": "code",
   "execution_count": 1,
   "id": "0e1b9692",
   "metadata": {},
   "outputs": [
    {
     "name": "stdout",
     "output_type": "stream",
     "text": [
      "enter number of list element1\n",
      "enter number\n",
      "1\n",
      "list is [1]\n",
      "sum of list is = 1\n"
     ]
    }
   ],
   "source": [
    "# 1.\tWrite a Python program to find sum of elements in list?\n",
    "len = int(input(\"enter number of list element\"))\n",
    "list = []\n",
    "for i in range(len):\n",
    "    num = int(input(\"enter number\\n\"))\n",
    "    list.append(num)\n",
    "print(\"list is\",list)\n",
    "sum = 0\n",
    "for i in list:\n",
    "    sum = i +sum\n",
    "    \n",
    "print(\"sum of list is =\",sum)\n",
    "    "
   ]
  },
  {
   "cell_type": "code",
   "execution_count": 2,
   "id": "752de965",
   "metadata": {},
   "outputs": [
    {
     "name": "stdout",
     "output_type": "stream",
     "text": [
      "enter number of list element1\n",
      "enter number\n",
      "1\n",
      "list is [1]\n",
      "multiply of list element is = 1\n"
     ]
    }
   ],
   "source": [
    "# 2.\tWrite a Python program to  Multiply all numbers in the list?\n",
    "len1 = int(input(\"enter number of list element\"))\n",
    "list1 = []\n",
    "for i in range(len1):\n",
    "    num1 = int(input(\"enter number\\n\"))\n",
    "    list1.append(num1)\n",
    "print(\"list is\",list1)\n",
    "mlt = 1\n",
    "for i in list1:\n",
    "        \n",
    "    mlt = i*mlt\n",
    "    \n",
    "print(\"multiply of list element is =\",mlt)"
   ]
  },
  {
   "cell_type": "code",
   "execution_count": 16,
   "id": "856b4611",
   "metadata": {},
   "outputs": [
    {
     "name": "stdout",
     "output_type": "stream",
     "text": [
      "enter number of list element2\n",
      "enter number\n",
      "2323\n",
      "enter number\n",
      "12\n",
      "list is [2323, 12]\n",
      "smallest element of list  is = 12\n"
     ]
    }
   ],
   "source": [
    "# 3.\tWrite a Python program to find smallest number in a list?\n",
    "len2 = int(input(\"enter number of list element\"))\n",
    "list2 = []\n",
    "for i in range(len2):\n",
    "    num2 = int(input(\"enter number\\n\"))\n",
    "    list2.append(num2)\n",
    "print(\"list is\",list2)\n",
    "import numpy as np\n",
    "\n",
    "temp =15\n",
    "\n",
    "# [3,4,5,6,7]\n",
    "# [8,7,6,5,4,3]\n",
    "\n",
    "# for i in range(len2):\n",
    "#     if list[i] < temp:\n",
    "#         temp = list[i]\n",
    "  \n",
    "    \n",
    "    \n",
    "print(\"smallest element of list  is =\",min(list2))"
   ]
  },
  {
   "cell_type": "code",
   "execution_count": null,
   "id": "ccaef543",
   "metadata": {},
   "outputs": [],
   "source": [
    "#### 4.\tWrite a Python program to find largest number in a list?\n",
    "\n",
    "len3 = int(input(\"enter number of list element\"))\n",
    "list3 = []\n",
    "for i in range(len3):\n",
    "    num3 = int(input(\"enter number\\n\"))\n",
    "    list3.append(num3)\n",
    "print(\"list is\",list3)\n",
    "\n",
    "\n",
    "\n",
    "    \n",
    "    \n",
    "print(\"biggest of list element is =\",temp)"
   ]
  },
  {
   "cell_type": "code",
   "execution_count": 22,
   "id": "01f3a41c",
   "metadata": {},
   "outputs": [
    {
     "name": "stdout",
     "output_type": "stream",
     "text": [
      "enter number of list element23\n",
      "enter number\n",
      "1\n",
      "enter number\n",
      "1\n",
      "enter number\n",
      "1\n",
      "enter number\n",
      "2\n",
      "enter number\n",
      "2\n",
      "enter number\n",
      "3\n",
      "enter number\n",
      "3\n",
      "enter number\n",
      "3\n",
      "enter number\n",
      "3\n",
      "enter number\n",
      "4\n",
      "enter number\n",
      "4\n",
      "enter number\n",
      "4\n",
      "enter number\n",
      "\n"
     ]
    },
    {
     "ename": "ValueError",
     "evalue": "invalid literal for int() with base 10: ''",
     "output_type": "error",
     "traceback": [
      "\u001b[1;31m---------------------------------------------------------------------------\u001b[0m",
      "\u001b[1;31mValueError\u001b[0m                                Traceback (most recent call last)",
      "Input \u001b[1;32mIn [22]\u001b[0m, in \u001b[0;36m<cell line: 4>\u001b[1;34m()\u001b[0m\n\u001b[0;32m      3\u001b[0m list4 \u001b[38;5;241m=\u001b[39m []\n\u001b[0;32m      4\u001b[0m \u001b[38;5;28;01mfor\u001b[39;00m i \u001b[38;5;129;01min\u001b[39;00m \u001b[38;5;28mrange\u001b[39m(len4):\n\u001b[1;32m----> 5\u001b[0m     num4 \u001b[38;5;241m=\u001b[39m \u001b[38;5;28;43mint\u001b[39;49m\u001b[43m(\u001b[49m\u001b[38;5;28;43minput\u001b[39;49m\u001b[43m(\u001b[49m\u001b[38;5;124;43m\"\u001b[39;49m\u001b[38;5;124;43menter number\u001b[39;49m\u001b[38;5;130;43;01m\\n\u001b[39;49;00m\u001b[38;5;124;43m\"\u001b[39;49m\u001b[43m)\u001b[49m\u001b[43m)\u001b[49m\n\u001b[0;32m      6\u001b[0m     list4\u001b[38;5;241m.\u001b[39mappend(num4)\n\u001b[0;32m      7\u001b[0m \u001b[38;5;28mprint\u001b[39m(\u001b[38;5;124m\"\u001b[39m\u001b[38;5;124mlist is\u001b[39m\u001b[38;5;124m\"\u001b[39m,list4)\n",
      "\u001b[1;31mValueError\u001b[0m: invalid literal for int() with base 10: ''"
     ]
    }
   ],
   "source": [
    "# 5.\tWrite a Python program to find second largest number in a list?\n",
    "len4 = int(input(\"enter number of list element\"))\n",
    "list4 = []\n",
    "for i in range(len4):\n",
    "    num4 = int(input(\"enter number\\n\"))\n",
    "    list4.append(num4)\n",
    "print(\"list is\",list4)\n",
    "\n",
    "\n",
    "temp = 0\n",
    "# [3,4,5,6,7]\n",
    "# [8,7,6,5,4,3]\n",
    "list4.sort()\n",
    "    \n",
    "    \n",
    "print(\"2nd biggest of list element is =\",list4[1])\n"
   ]
  },
  {
   "cell_type": "code",
   "execution_count": 26,
   "id": "18da762d",
   "metadata": {},
   "outputs": [
    {
     "name": "stdout",
     "output_type": "stream",
     "text": [
      "enter number of list element4\n",
      "enter number\n",
      "23\n",
      "enter number\n",
      "34\n",
      "enter number\n",
      "45\n",
      "enter number\n",
      "45\n",
      "list is [23, 34, 45, 45]\n",
      "N largest elements from a list = [45]\n"
     ]
    }
   ],
   "source": [
    "# 6.\tWrite a Python program to find N largest elements from a list?\n",
    "len4 = int(input(\"enter number of list element\"))\n",
    "list4 = []\n",
    "for i in range(len4):\n",
    "    num4 = int(input(\"enter number\\n\"))\n",
    "    list4.append(num4)\n",
    "print(\"list is\",list4)\n",
    "\n",
    "\n",
    "temp = 0\n",
    "# [3,4,5,6,7]\n",
    "# [8,7,6,5,4,3]\n",
    "list4.sort()\n",
    "    \n",
    "    \n",
    "print(\"N largest elements from a list =\",list4[-1:])\n"
   ]
  },
  {
   "cell_type": "code",
   "execution_count": 29,
   "id": "836393f2",
   "metadata": {},
   "outputs": [
    {
     "name": "stdout",
     "output_type": "stream",
     "text": [
      "enter number of list element4\n",
      "enter number\n",
      "3\n",
      "enter number\n",
      "12\n",
      "enter number\n",
      "18\n",
      "enter number\n",
      "34\n",
      "list is [3, 12, 18, 34]\n",
      "Even Number in list is= 12\n",
      "Even Number in list is= 18\n",
      "Even Number in list is= 34\n"
     ]
    }
   ],
   "source": [
    "# 7.\tWrite a Python program to print even numbers in a list?\n",
    "len5 = int(input(\"enter number of list element\"))\n",
    "list5 = []\n",
    "for i in range(len5):\n",
    "    num5 = int(input(\"enter number\\n\"))\n",
    "    list5.append(num5)\n",
    "print(\"list is\",list5)\n",
    "\n",
    "list5.sort()\n",
    "for i in list5:\n",
    "    if(i%2 ==0):\n",
    "        print(\"Even Number in list is=\",i)\n",
    "    \n",
    "    \n",
    "# print(\"N largest elements from a list =\",list4[-1:])\n"
   ]
  },
  {
   "cell_type": "code",
   "execution_count": 32,
   "id": "5928fc48",
   "metadata": {},
   "outputs": [
    {
     "name": "stdout",
     "output_type": "stream",
     "text": [
      "enter number of list element3\n",
      "enter number\n",
      "2\n",
      "enter number\n",
      "3\n",
      "enter number\n",
      "5\n",
      "list is [2, 3, 5]\n",
      "Old Number in list is= 3\n",
      "Old Number in list is= 5\n"
     ]
    }
   ],
   "source": [
    "# 8.\tWrite a Python program to print odd numbers in a List?\n",
    "len5 = int(input(\"enter number of list element\"))\n",
    "list5 = []\n",
    "for i in range(len5):\n",
    "    num5 = int(input(\"enter number\\n\"))\n",
    "    list5.append(num5)\n",
    "print(\"list is\",list5)\n",
    "\n",
    "list5.sort()\n",
    "for i in list5:\n",
    "    if(i%2 !=0):\n",
    "        print(\"Old Number in list is=\",i)\n",
    "    "
   ]
  },
  {
   "cell_type": "code",
   "execution_count": 37,
   "id": "38118ed2",
   "metadata": {},
   "outputs": [
    {
     "name": "stdout",
     "output_type": "stream",
     "text": [
      "The original list is : [5, 6, [], 3, [], [], 9]\n",
      "The original list is : [5, 6, 3, 9]\n"
     ]
    }
   ],
   "source": [
    "# 9.\tWrite a Python program to Remove empty List from List?\n",
    "\n",
    "test_list = [5, 6, [], 3, [], [], 9]\n",
    "print(\"The original list is : \" + str(test_list))\n",
    "\n",
    "\n",
    "rem = [ele for ele in test_list if ele !=[]]\n",
    "print(\"The original list is : \" + str(rem))\n",
    "\n"
   ]
  },
  {
   "cell_type": "code",
   "execution_count": 43,
   "id": "03014d9c",
   "metadata": {},
   "outputs": [
    {
     "name": "stdout",
     "output_type": "stream",
     "text": [
      "enter number of list element3\n",
      "enter number\n",
      "12\n",
      "enter number\n",
      "123\n",
      "enter number\n",
      "23\n",
      "Orignal list is [12, 123, 23]\n",
      "New List is =  [12, 123, 23]\n"
     ]
    }
   ],
   "source": [
    "# 10.\tWrite a Python program to Cloning or Copying a list?\n",
    "len6 = int(input(\"enter number of list element\"))\n",
    "list6 = []\n",
    "for i in range(len6):\n",
    "    num6 = int(input(\"enter number\\n\"))\n",
    "    list6.append(num6)\n",
    "print(\"Orignal list is\",list6)\n",
    "# nlist =list6.copy()\n",
    "nlist1 =[i for i in list6]\n",
    "print(\"New List is = \",nlist1)"
   ]
  },
  {
   "cell_type": "code",
   "execution_count": 50,
   "id": "93ea995d",
   "metadata": {},
   "outputs": [
    {
     "name": "stdout",
     "output_type": "stream",
     "text": [
      "enter number of list element3\n",
      "enter number\n",
      "2\n",
      "enter number\n",
      "2\n",
      "enter number\n",
      "2\n",
      "input list is [2, 2, 2]\n",
      "enter your number check2\n",
      "number-2 is availble in list and Count occurrences is =3\n"
     ]
    }
   ],
   "source": [
    "# 11.\tWrite a Python program to Count occurrences of an element in a list?\n",
    "len7 = int(input(\"enter number of list element\"))\n",
    "list7 = []\n",
    "for i in range(len7):\n",
    "    num7 = int(input(\"enter number\\n\"))\n",
    "    list7.append(num7)\n",
    "print(\"input list is\",list7)\n",
    "c = int(input(\"enter your number check\"))\n",
    "count =0\n",
    "for i in list7:\n",
    "    if i ==c:\n",
    "        count +=1 \n",
    "    \n",
    "print(f\"number-{c} is availble in list and Count occurrences is ={count}\")\n",
    "\n"
   ]
  },
  {
   "cell_type": "markdown",
   "id": "bb55d0e8",
   "metadata": {},
   "source": []
  }
 ],
 "metadata": {
  "kernelspec": {
   "display_name": "Python 3 (ipykernel)",
   "language": "python",
   "name": "python3"
  },
  "language_info": {
   "codemirror_mode": {
    "name": "ipython",
    "version": 3
   },
   "file_extension": ".py",
   "mimetype": "text/x-python",
   "name": "python",
   "nbconvert_exporter": "python",
   "pygments_lexer": "ipython3",
   "version": "3.10.4"
  }
 },
 "nbformat": 4,
 "nbformat_minor": 5
}
